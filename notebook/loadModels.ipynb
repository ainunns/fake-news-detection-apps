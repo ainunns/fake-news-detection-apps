{
 "cells": [
  {
   "cell_type": "code",
   "execution_count": 1,
   "metadata": {},
   "outputs": [],
   "source": [
    "import torch\n",
    "import torch.nn as nn\n",
    "import torch.optim as optim\n",
    "from sklearn.model_selection import KFold\n",
    "from sklearn.metrics import accuracy_score, roc_auc_score\n",
    "from torch.utils.data import DataLoader, TensorDataset\n",
    "from sklearn.feature_extraction.text import TfidfVectorizer, CountVectorizer\n",
    "import pandas as pd"
   ]
  },
  {
   "cell_type": "code",
   "execution_count": 2,
   "metadata": {},
   "outputs": [
    {
     "data": {
      "text/html": [
       "<div>\n",
       "<style scoped>\n",
       "    .dataframe tbody tr th:only-of-type {\n",
       "        vertical-align: middle;\n",
       "    }\n",
       "\n",
       "    .dataframe tbody tr th {\n",
       "        vertical-align: top;\n",
       "    }\n",
       "\n",
       "    .dataframe thead th {\n",
       "        text-align: right;\n",
       "    }\n",
       "</style>\n",
       "<table border=\"1\" class=\"dataframe\">\n",
       "  <thead>\n",
       "    <tr style=\"text-align: right;\">\n",
       "      <th></th>\n",
       "      <th>Unnamed: 0</th>\n",
       "      <th>title</th>\n",
       "      <th>text</th>\n",
       "      <th>label</th>\n",
       "    </tr>\n",
       "  </thead>\n",
       "  <tbody>\n",
       "    <tr>\n",
       "      <th>0</th>\n",
       "      <td>0</td>\n",
       "      <td>Palestinians switch off Christmas lights in Be...</td>\n",
       "      <td>RAMALLAH, West Bank (Reuters) - Palestinians s...</td>\n",
       "      <td>1</td>\n",
       "    </tr>\n",
       "    <tr>\n",
       "      <th>1</th>\n",
       "      <td>1</td>\n",
       "      <td>China says Trump call with Taiwan president wo...</td>\n",
       "      <td>BEIJING (Reuters) - U.S. President-elect Donal...</td>\n",
       "      <td>1</td>\n",
       "    </tr>\n",
       "    <tr>\n",
       "      <th>2</th>\n",
       "      <td>2</td>\n",
       "      <td>FAIL! The Trump Organization’s Credit Score W...</td>\n",
       "      <td>While the controversy over Trump s personal ta...</td>\n",
       "      <td>0</td>\n",
       "    </tr>\n",
       "    <tr>\n",
       "      <th>3</th>\n",
       "      <td>3</td>\n",
       "      <td>Zimbabwe military chief's China trip was norma...</td>\n",
       "      <td>BEIJING (Reuters) - A trip to Beijing last wee...</td>\n",
       "      <td>1</td>\n",
       "    </tr>\n",
       "    <tr>\n",
       "      <th>4</th>\n",
       "      <td>4</td>\n",
       "      <td>THE MOST UNCOURAGEOUS PRESIDENT EVER Receives ...</td>\n",
       "      <td>There has never been a more UNCOURAGEOUS perso...</td>\n",
       "      <td>0</td>\n",
       "    </tr>\n",
       "  </tbody>\n",
       "</table>\n",
       "</div>"
      ],
      "text/plain": [
       "   Unnamed: 0                                              title  \\\n",
       "0           0  Palestinians switch off Christmas lights in Be...   \n",
       "1           1  China says Trump call with Taiwan president wo...   \n",
       "2           2   FAIL! The Trump Organization’s Credit Score W...   \n",
       "3           3  Zimbabwe military chief's China trip was norma...   \n",
       "4           4  THE MOST UNCOURAGEOUS PRESIDENT EVER Receives ...   \n",
       "\n",
       "                                                text  label  \n",
       "0  RAMALLAH, West Bank (Reuters) - Palestinians s...      1  \n",
       "1  BEIJING (Reuters) - U.S. President-elect Donal...      1  \n",
       "2  While the controversy over Trump s personal ta...      0  \n",
       "3  BEIJING (Reuters) - A trip to Beijing last wee...      1  \n",
       "4  There has never been a more UNCOURAGEOUS perso...      0  "
      ]
     },
     "execution_count": 2,
     "metadata": {},
     "output_type": "execute_result"
    }
   ],
   "source": [
    "df1 =  pd.read_csv(\"C:\\\\Users\\\\Administrator\\\\Documents\\\\RSBP\\\\fake-news-detection-apps\\\\dataset\\\\train.csv\", sep=';')\n",
    "df2 =  pd.read_csv(\"C:\\\\Users\\\\Administrator\\\\Documents\\\\RSBP\\\\fake-news-detection-apps\\\\dataset\\\\test.csv\", sep=';')\n",
    "df3 =  pd.read_csv(\"C:\\\\Users\\\\Administrator\\\\Documents\\\\RSBP\\\\fake-news-detection-apps\\\\dataset\\\\evaluation.csv\", sep=';')\n",
    "df = pd.concat([df1, df2,df3], ignore_index=True)\n",
    "df.head()"
   ]
  },
  {
   "cell_type": "code",
   "execution_count": 3,
   "metadata": {},
   "outputs": [
    {
     "name": "stdout",
     "output_type": "stream",
     "text": [
      "Using Device: cpu\n"
     ]
    }
   ],
   "source": [
    "# device selection: MPS (for macOS with Apple Silicon), CUDA, or CPU\n",
    "device = 'mps' if torch.backends.mps.is_available() else 'cuda' if torch.cuda.is_available() else 'cpu'\n",
    "print(f'Using Device: {device}')"
   ]
  },
  {
   "cell_type": "code",
   "execution_count": 4,
   "metadata": {},
   "outputs": [],
   "source": [
    "class FakeNewsBinaryClassifier(nn.Module):\n",
    "    def __init__(self, input_dim):\n",
    "        super(FakeNewsBinaryClassifier, self).__init__()\n",
    "        self.network = nn.Sequential(nn.Linear(input_dim, 128),\n",
    "                                     nn.ReLU(),\n",
    "                                     nn.Linear(128, 64),\n",
    "                                     nn.ReLU(),\n",
    "                                     nn.Linear(64, 1),\n",
    "                                     nn.Sigmoid())\n",
    "\n",
    "    def forward(self, x):\n",
    "        return self.network(x)"
   ]
  },
  {
   "cell_type": "code",
   "execution_count": 5,
   "metadata": {},
   "outputs": [
    {
     "data": {
      "text/plain": [
       "FakeNewsBinaryClassifier(\n",
       "  (network): Sequential(\n",
       "    (0): Linear(in_features=1000, out_features=128, bias=True)\n",
       "    (1): ReLU()\n",
       "    (2): Linear(in_features=128, out_features=64, bias=True)\n",
       "    (3): ReLU()\n",
       "    (4): Linear(in_features=64, out_features=1, bias=True)\n",
       "    (5): Sigmoid()\n",
       "  )\n",
       ")"
      ]
     },
     "execution_count": 5,
     "metadata": {},
     "output_type": "execute_result"
    }
   ],
   "source": [
    "loaded_model = FakeNewsBinaryClassifier(input_dim=1000).to(device)\n",
    "loaded_model.load_state_dict(torch.load('fake_news_classifier.pth', weights_only=True))\n",
    "loaded_model.eval()"
   ]
  },
  {
   "cell_type": "code",
   "execution_count": 26,
   "metadata": {},
   "outputs": [],
   "source": [
    "def predict(model, X):\n",
    "    with torch.no_grad():\n",
    "        output = model(X)\n",
    "        true_percentage = output.item() * 100  # Confidence for True\n",
    "        false_percentage = 100 - true_percentage  # Confidence for False\n",
    "        \n",
    "        print(f\"Confidence: True = {true_percentage:.2f}%, False = {false_percentage:.2f}%\")\n",
    "        \n",
    "        prediction = 'True' if true_percentage >= 50 else 'False'\n",
    "    return prediction\n",
    "\n"
   ]
  },
  {
   "cell_type": "code",
   "execution_count": 25,
   "metadata": {},
   "outputs": [
    {
     "data": {
      "text/plain": [
       "array([[0.        , 0.        , 0.        , ..., 0.        , 0.        ,\n",
       "        0.        ],\n",
       "       [0.        , 0.        , 0.        , ..., 0.        , 0.        ,\n",
       "        0.        ],\n",
       "       [0.        , 0.        , 0.07362936, ..., 0.        , 0.        ,\n",
       "        0.        ],\n",
       "       ...,\n",
       "       [0.        , 0.        , 0.        , ..., 0.        , 0.        ,\n",
       "        0.        ],\n",
       "       [0.0480039 , 0.        , 0.        , ..., 0.        , 0.        ,\n",
       "        0.        ],\n",
       "       [0.        , 0.10522938, 0.        , ..., 0.        , 0.        ,\n",
       "        0.        ]], shape=(40587, 1000))"
      ]
     },
     "execution_count": 25,
     "metadata": {},
     "output_type": "execute_result"
    }
   ],
   "source": [
    "\n",
    "vectorizer = TfidfVectorizer(max_features=1000, stop_words='english')\n",
    "vectorizer.fit_transform(df['title'] + \" \" + df['text']).toarray()"
   ]
  },
  {
   "cell_type": "code",
   "execution_count": 27,
   "metadata": {},
   "outputs": [
    {
     "name": "stdout",
     "output_type": "stream",
     "text": [
      "Confidence: True = 99.99%, False = 0.01%\n",
      "Prediction: True\n"
     ]
    }
   ],
   "source": [
    "# new article for inference (no label)\n",
    "sample_title = 'Palestinians switch off Christmas lights in Bethlehem in anti-Trump protest.'\n",
    "sample_text = 'RAMALLAH, West Bank (Reuters) - Palestinians switched off Christmas lights at Jesus traditional birthplace.'\n",
    "\n",
    "# combine and vectorize, then move to device\n",
    "sample_combined = sample_title + ' ' + sample_text\n",
    "sample_vector = vectorizer.transform([sample_combined]).toarray()\n",
    "sample_tensor = torch.tensor(sample_vector, dtype=torch.float32).to(device)\n",
    "\n",
    "# run inference\n",
    "print(\"Prediction:\", predict(loaded_model, sample_tensor))"
   ]
  },
  {
   "cell_type": "code",
   "execution_count": 28,
   "metadata": {},
   "outputs": [
    {
     "name": "stdout",
     "output_type": "stream",
     "text": [
      "Confidence: True = 98.14%, False = 1.86%\n",
      "Prediction: True\n"
     ]
    }
   ],
   "source": [
    "# new article for inference (no label)\n",
    "sample_title = 'Russia cyber unit without Trump notifying Congress'\n",
    "sample_text = 'Under legislation progressing in Congress, U.S. President Donald Trump would be required to notify lawmakers before establishing a joint U.S.-Russia cybersecurity unit—an idea that has faced bipartisan criticism. If enacted, this measure would add to a series of congressional actions either restricting the president’s authority on Russia-related issues or opposing his efforts to improve ties with Moscow. The requirement, included in the annual Intelligence Authorization Act, mandates the Trump administration to submit a report to Congress outlining the intelligence to be shared with Russia, any counterintelligence risks, and plans to address those risks. The Senate Intelligence Committee approved the provision by a 14-1 vote in July as part of the broader bill overseeing operations by the CIA and other intelligence agencies. While the committee passed the legislation earlier, its details were only recently disclosed due to the classified nature of the operations it governs.'\n",
    "\n",
    "# combine and vectorize, then move to device\n",
    "sample_combined = sample_title + ' ' + sample_text\n",
    "sample_vector = vectorizer.transform([sample_combined]).toarray()\n",
    "sample_tensor = torch.tensor(sample_vector, dtype=torch.float32).to(device)\n",
    "\n",
    "# run inference\n",
    "print(\"Prediction:\", predict(loaded_model, sample_tensor))"
   ]
  },
  {
   "cell_type": "code",
   "execution_count": 29,
   "metadata": {},
   "outputs": [
    {
     "name": "stdout",
     "output_type": "stream",
     "text": [
      "Confidence: True = 90.86%, False = 9.14%\n",
      "Prediction: True\n"
     ]
    }
   ],
   "source": [
    "# new article for inference (no label)\n",
    "sample_title = 'Mexico Passes Controversial Law Cementing Military’s Role in Drug War'\n",
    "sample_text = 'Mexico’s Congress approved the Law of Internal Security on Friday, formalizing the military’s involvement in combating drug cartels despite opposition from human rights groups and the United Nations. Backed by the ruling Institutional Revolutionary Party and some National Action Party members, the legislation now awaits President Enrique Peña Nieto signature. The law establishes guidelines for military operations against cartels, a conflict that has resulted in over 100,000 deaths in the past decade. Proponents argue the law provides clear regulations for military actions, but critics, including Amnesty International and local human rights organizations, warn it risks increasing abuses and undermining police reform.'\n",
    "\n",
    "# combine and vectorize, then move to device\n",
    "sample_combined = sample_title + ' ' + sample_text\n",
    "sample_vector = vectorizer.transform([sample_combined]).toarray()\n",
    "sample_tensor = torch.tensor(sample_vector, dtype=torch.float32).to(device)\n",
    "\n",
    "# run inference\n",
    "print(\"Prediction:\", predict(loaded_model, sample_tensor))"
   ]
  },
  {
   "cell_type": "code",
   "execution_count": 30,
   "metadata": {},
   "outputs": [
    {
     "name": "stdout",
     "output_type": "stream",
     "text": [
      "Confidence: True = 89.78%, False = 10.22%\n",
      "Prediction: True\n"
     ]
    }
   ],
   "source": [
    "# From dataset, paraphrased using chatgpt\n",
    "# new article for inference (no label)\n",
    "sample_title = 'Justice Department Investigates Arizona Election'\n",
    "sample_text = 'The U.S. Department of Justice has launched a civil rights investigation into Arizona’s March 22 presidential primary, focusing on complaints of excessively long wait times at polling stations in areas with large minority populations. The inquiry targets Maricopa County, which reduced its polling sites from 200 in 2012 to just 60 this year, citing cost-cutting measures. The cuts led to voters waiting up to five hours to cast their ballots.'\n",
    "\n",
    "# combine and vectorize, then move to device\n",
    "sample_combined = sample_title + ' ' + sample_text\n",
    "sample_vector = vectorizer.transform([sample_combined]).toarray()\n",
    "sample_tensor = torch.tensor(sample_vector, dtype=torch.float32).to(device)\n",
    "\n",
    "# run inference\n",
    "print(\"Prediction:\", predict(loaded_model, sample_tensor))"
   ]
  },
  {
   "cell_type": "code",
   "execution_count": 31,
   "metadata": {},
   "outputs": [
    {
     "name": "stdout",
     "output_type": "stream",
     "text": [
      "Confidence: True = 84.08%, False = 15.92%\n",
      "Prediction: True\n"
     ]
    }
   ],
   "source": [
    "# test from https://apnews.com/article/fb2e92a47f054019a2589ace78d20836\n",
    "# new article for inference (no label)\n",
    "sample_title = 'Trump claims astounding victory as America’s 45th president'\n",
    "sample_text = 'Donald Trump secured his place as America’s 45th president on Wednesday, achieving a shocking victory over Hillary Clinton. The political newcomer and businessman capitalized on economic anxieties, racial tensions, and a deeply divided electorate to clinch the White House, despite a campaign shadowed by sexual assault allegations.Trump’s triumph ends eight years of Democratic leadership and signals potential reversals of key Obama-era policies, including the Affordable Care Act, the Iran nuclear deal, and major trade agreements. Calling for unity in his victory speech, Trump urged Americans to “come together as one united people.” Clinton conceded the race in a phone call but postponed her public remarks. Despite his earlier rallying cries of “lock her up,” Trump acknowledged her public service contributions.Breaking through the Democrats’ strongholds, Trump flipped Pennsylvania and Wisconsin, states that hadn’t backed a Republican presidential candidate since the 1980s. He also won key battlegrounds like Florida, Ohio, and North Carolina. Global stock markets and U.S. futures plunged amid uncertainty about the economic and trade policies of a Trump administration.'\n",
    "# The sample was paraphrased with chatgpt\n",
    "\n",
    "# combine and vectorize, then move to device\n",
    "sample_combined = sample_title + ' ' + sample_text\n",
    "sample_vector = vectorizer.transform([sample_combined]).toarray()\n",
    "sample_tensor = torch.tensor(sample_vector, dtype=torch.float32).to(device)\n",
    "\n",
    "# run inference\n",
    "print(\"Prediction:\", predict(loaded_model, sample_tensor))"
   ]
  },
  {
   "cell_type": "code",
   "execution_count": 32,
   "metadata": {},
   "outputs": [
    {
     "name": "stdout",
     "output_type": "stream",
     "text": [
      "Confidence: True = 92.48%, False = 7.52%\n",
      "Prediction: True\n"
     ]
    }
   ],
   "source": [
    "# From https://faculty.lsu.edu/fakenews/elections/sixteen.php\n",
    "# no parapharasing\n",
    "# new article for inference (no label)\n",
    "sample_title = 'How Fake News Affected the 2016 Presidential Election'\n",
    "sample_text = 'Facebook CEO Mark Zuckerberg’s appearance before the Senate’s Commerce and Judiciary committees was a critical test for the future of social media platforms that skeptical lawmakers say need tougher regulations to prevent the proliferation of fake-news and interference in domestic matters by foreign adversaries. Lawmakers grilled the 33-year-old executive on the revelation that Cambridge Analytica, a political consulting firm linked to the Trump campaign, harvested data from 87 million Facebook users to profile voters and sway the 2016 election. The hearing left many lawmakers unsatisfied and did not result in government oversight of social media platforms. But Zuckerberg said Facebook would be “investigating many apps, tens of thousands of app, and if we find suspicious activity, we’re going to conduct a full audit of those apps to understand how their using their data and if they’re doing anything improper..we’ll ban them from Facebook and we will tell everyone affected.”Zuckerberg admitted the company’s failure to stop Russian bots was one of his greatest regrets. He said Facebook tracked known Russian hacking groups in real time but that it took much longer to nail inflammatory posts by the IRA. Facebook later deployed artificial intelligence tools to detect malicious activity in elections in France, Italy, and a Senate race in Alabama. In closing, Zuckerberg said “There are people in Russia whose job is to exploit our systems. This is an arms race.” But the Cambridge Analytica debacle underscored how Facebook can be used for nefarious reasons, and how the tools social media platforms create can be exploited to manipulate users’ information. In May 2017, Facebook announced plans to hire 3,000 content reviewers.'\n",
    "\n",
    "# combine and vectorize, then move to device\n",
    "sample_combined = sample_title + ' ' + sample_text\n",
    "sample_vector = vectorizer.transform([sample_combined]).toarray()\n",
    "sample_tensor = torch.tensor(sample_vector, dtype=torch.float32).to(device)\n",
    "\n",
    "# run inference\n",
    "print(\"Prediction:\", predict(loaded_model, sample_tensor))"
   ]
  },
  {
   "cell_type": "code",
   "execution_count": 33,
   "metadata": {},
   "outputs": [
    {
     "name": "stdout",
     "output_type": "stream",
     "text": [
      "Confidence: True = 73.33%, False = 26.67%\n",
      "Prediction: True\n"
     ]
    }
   ],
   "source": [
    "# https://www.cbsnews.com/newyork/news/ny-gun-control-measure-heads-to-assembly-for-vote/\n",
    "# new article for inference (no label)\n",
    "sample_title = 'New York News Gov. Cuomo Signs Nations Toughest Gun Control Legislation Into Law'\n",
    "sample_text = 'Not all in the Assembly agreed that the bill was thoroughly thought through. For an issue of this importance, and its impact on our Second Amendment rights guaranteed by the United States Constitution, the legislation that was passed today lacked sufficient public input and discussion to ensure that we provide meaningful protection for our children, families and communities, Assemblyman Brian Kolb said. Stakeholders from across the state – including law enforcement, school safety officials, firearms dealers, metal health professionals, business owners, criminal profilers, law abiding gun owners and the public at large - never had the opportunity to comment or make their voices heard regarding this critical issue.'\n",
    "\n",
    "# combine and vectorize, then move to device\n",
    "sample_combined = sample_title + ' ' + sample_text\n",
    "sample_vector = vectorizer.transform([sample_combined]).toarray()\n",
    "sample_tensor = torch.tensor(sample_vector, dtype=torch.float32).to(device)\n",
    "\n",
    "# run inference\n",
    "print(\"Prediction:\", predict(loaded_model, sample_tensor))"
   ]
  }
 ],
 "metadata": {
  "kernelspec": {
   "display_name": "alkhwaritsmi",
   "language": "python",
   "name": "python3"
  },
  "language_info": {
   "codemirror_mode": {
    "name": "ipython",
    "version": 3
   },
   "file_extension": ".py",
   "mimetype": "text/x-python",
   "name": "python",
   "nbconvert_exporter": "python",
   "pygments_lexer": "ipython3",
   "version": "3.11.10"
  }
 },
 "nbformat": 4,
 "nbformat_minor": 2
}
